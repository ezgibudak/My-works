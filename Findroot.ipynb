{
 "cells": [
  {
   "cell_type": "code",
   "execution_count": 1,
   "metadata": {},
   "outputs": [],
   "source": [
    "import math"
   ]
  },
  {
   "cell_type": "code",
   "execution_count": 9,
   "metadata": {},
   "outputs": [],
   "source": [
    "def findroot(a,b,c):\n",
    "    if a!=0:\n",
    "        D=b*b-4*a*c\n",
    "        if D>0:\n",
    "            x1=(-b+math.sqrt(D))/(2*a)\n",
    "            x2=(-b-math.sqrt(D))/(2*a)\n",
    "            print(x1,x2)\n",
    "        elif D==0:\n",
    "            x=-b/(2*a)\n",
    "            print(x)           \n",
    "        else:\n",
    "            print(\"No real roots\")\n",
    "    else:\n",
    "        x=-c/b\n",
    "        print(x)"
   ]
  },
  {
   "cell_type": "code",
   "execution_count": 11,
   "metadata": {},
   "outputs": [
    {
     "name": "stdout",
     "output_type": "stream",
     "text": [
      "6.0 -1.0\n"
     ]
    }
   ],
   "source": [
    "findroot(1,-5,-6)"
   ]
  },
  {
   "cell_type": "code",
   "execution_count": null,
   "metadata": {},
   "outputs": [],
   "source": []
  }
 ],
 "metadata": {
  "kernelspec": {
   "display_name": "Python 3",
   "language": "python",
   "name": "python3"
  },
  "language_info": {
   "codemirror_mode": {
    "name": "ipython",
    "version": 3
   },
   "file_extension": ".py",
   "mimetype": "text/x-python",
   "name": "python",
   "nbconvert_exporter": "python",
   "pygments_lexer": "ipython3",
   "version": "3.7.1"
  }
 },
 "nbformat": 4,
 "nbformat_minor": 2
}
