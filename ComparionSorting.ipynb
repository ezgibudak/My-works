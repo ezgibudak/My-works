{
 "cells": [
  {
   "cell_type": "code",
   "execution_count": 1,
   "metadata": {},
   "outputs": [],
   "source": [
    "import math"
   ]
  },
  {
   "cell_type": "code",
   "execution_count": 46,
   "metadata": {},
   "outputs": [
    {
     "name": "stdout",
     "output_type": "stream",
     "text": [
      "[14, 35, 47, 60, 81, 98]\n"
     ]
    }
   ],
   "source": [
    "#my code\n",
    "A=[60,35,81,98,14,47]\n",
    "for i in range(0,len(A)):\n",
    "    for j in range(0,len(A)):\n",
    "        if i!=j:\n",
    "            if A[i]<A[j]:\n",
    "                A[i],A[j]=A[j],A[i]\n",
    "print(A)"
   ]
  },
  {
   "cell_type": "code",
   "execution_count": 47,
   "metadata": {},
   "outputs": [],
   "source": [
    "#my code with function\n",
    "def compsort(A):\n",
    "    for i in range(0,len(A)):\n",
    "        for j in range(0,len(A)):\n",
    "            if i!=j:\n",
    "                if A[i]<A[j]:\n",
    "                    A[i],A[j]=A[j],A[i]\n",
    "    print(A)"
   ]
  },
  {
   "cell_type": "code",
   "execution_count": 50,
   "metadata": {},
   "outputs": [
    {
     "name": "stdout",
     "output_type": "stream",
     "text": [
      "[14, 35, 47, 60, 81, 98]\n"
     ]
    }
   ],
   "source": [
    "compsort(A=[60,35,81,98,14,47])"
   ]
  },
  {
   "cell_type": "code",
   "execution_count": 52,
   "metadata": {},
   "outputs": [
    {
     "name": "stdout",
     "output_type": "stream",
     "text": [
      "[14, 35, 47, 60, 81, 98]\n"
     ]
    }
   ],
   "source": [
    "#On the Internet\n",
    "A=[60,35,81,98,14,47]\n",
    "swapped=True\n",
    "while swapped:\n",
    "    swapped=False\n",
    "    for i in range(0,(len(A)-1)):\n",
    "        if A[i]>A[i+1]:\n",
    "            A[i],A[i+1]=A[i+1],A[i]\n",
    "            swapped=True\n",
    "print(A)"
   ]
  },
  {
   "cell_type": "code",
   "execution_count": 53,
   "metadata": {},
   "outputs": [
    {
     "name": "stdout",
     "output_type": "stream",
     "text": [
      "[1, 2, 4, 5, 8]\n"
     ]
    }
   ],
   "source": [
    "# On the Internet orig.\n",
    "def bubble_sort(nums):  \n",
    "    # We set swapped to True so the loop looks runs at least once\n",
    "    swapped = True\n",
    "    while swapped:\n",
    "        swapped = False\n",
    "        for i in range(len(nums) - 1):\n",
    "            if nums[i] > nums[i + 1]:\n",
    "                # Swap the elements\n",
    "                nums[i], nums[i + 1] = nums[i + 1], nums[i]\n",
    "                # Set the flag to True so we'll loop again\n",
    "                swapped = True\n",
    "random_list_of_nums = [5, 2, 1, 8, 4]  \n",
    "bubble_sort(random_list_of_nums)  \n",
    "print(random_list_of_nums)"
   ]
  },
  {
   "cell_type": "code",
   "execution_count": null,
   "metadata": {},
   "outputs": [],
   "source": []
  },
  {
   "cell_type": "code",
   "execution_count": null,
   "metadata": {},
   "outputs": [],
   "source": []
  }
 ],
 "metadata": {
  "kernelspec": {
   "display_name": "Python 3",
   "language": "python",
   "name": "python3"
  },
  "language_info": {
   "codemirror_mode": {
    "name": "ipython",
    "version": 3
   },
   "file_extension": ".py",
   "mimetype": "text/x-python",
   "name": "python",
   "nbconvert_exporter": "python",
   "pygments_lexer": "ipython3",
   "version": "3.7.1"
  }
 },
 "nbformat": 4,
 "nbformat_minor": 2
}
