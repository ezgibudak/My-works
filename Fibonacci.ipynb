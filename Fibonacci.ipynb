{
 "cells": [
  {
   "cell_type": "code",
   "execution_count": 1,
   "metadata": {},
   "outputs": [],
   "source": [
    "import math"
   ]
  },
  {
   "cell_type": "code",
   "execution_count": 25,
   "metadata": {},
   "outputs": [],
   "source": [
    "def fibonacci(n):\n",
    "    f1=0\n",
    "    f2=1\n",
    "    if n==1: return 0\n",
    "    elif n==2: return 1\n",
    "    else:\n",
    "        for i in range(3,n+1):\n",
    "            f3=f1+f2\n",
    "            f1=f2\n",
    "            f2=f3\n",
    "        print(f2)"
   ]
  },
  {
   "cell_type": "code",
   "execution_count": 26,
   "metadata": {},
   "outputs": [
    {
     "name": "stdout",
     "output_type": "stream",
     "text": [
      "34\n"
     ]
    }
   ],
   "source": [
    "fibonacci(10)"
   ]
  },
  {
   "cell_type": "code",
   "execution_count": 22,
   "metadata": {},
   "outputs": [],
   "source": [
    "# write an array of fibonacci(n)\n",
    "def fiboseries(n):\n",
    "    A=[0,1]\n",
    "    f1=0\n",
    "    f2=1\n",
    "    for i in range(3,n+1):\n",
    "        f3=f1+f2\n",
    "        f1=f2\n",
    "        f2=f3\n",
    "        A.append(f2)\n",
    "    print(A)\n",
    "\n"
   ]
  },
  {
   "cell_type": "code",
   "execution_count": 50,
   "metadata": {},
   "outputs": [
    {
     "name": "stdout",
     "output_type": "stream",
     "text": [
      "[0, 1, 1, 2, 3, 5, 8, 13, 21, 34, 55, 89, 144, 233, 377, 610]\n"
     ]
    }
   ],
   "source": [
    "fiboseries(16)"
   ]
  },
  {
   "cell_type": "code",
   "execution_count": 36,
   "metadata": {},
   "outputs": [],
   "source": [
    "# how many even numbers in n fibonacci\n",
    "def fiboeven(n):\n",
    "    A=[0,1]\n",
    "    f1=0\n",
    "    f2=1\n",
    "    for i in range(3,n+1):\n",
    "        f3=f1+f2\n",
    "        f1=f2\n",
    "        f2=f3\n",
    "        A.append(f2)\n",
    "        count=0\n",
    "        for j in range(0,len(A)):\n",
    "            if A[j]%2==0:\n",
    "                count=count+1\n",
    "    print(count)\n",
    "            "
   ]
  },
  {
   "cell_type": "code",
   "execution_count": 39,
   "metadata": {},
   "outputs": [
    {
     "name": "stdout",
     "output_type": "stream",
     "text": [
      "6\n"
     ]
    }
   ],
   "source": [
    "fiboeven(16)"
   ]
  },
  {
   "cell_type": "code",
   "execution_count": 41,
   "metadata": {},
   "outputs": [],
   "source": [
    "# how many odd numbers in n fibonacci\n",
    "def fiboodd(n):\n",
    "    A=[0,1]\n",
    "    f1=0\n",
    "    f2=1\n",
    "    for i in range(3,n+1):\n",
    "        f3=f1+f2\n",
    "        f1=f2\n",
    "        f2=f3\n",
    "        A.append(f2)\n",
    "        count=0\n",
    "        for j in range(0,len(A)):\n",
    "            if A[j]%2!=0:\n",
    "                count=count+1\n",
    "    print(count)"
   ]
  },
  {
   "cell_type": "code",
   "execution_count": 42,
   "metadata": {},
   "outputs": [
    {
     "name": "stdout",
     "output_type": "stream",
     "text": [
      "10\n"
     ]
    }
   ],
   "source": [
    "fiboodd(16)"
   ]
  },
  {
   "cell_type": "code",
   "execution_count": 65,
   "metadata": {},
   "outputs": [],
   "source": [
    "# find even numbers in n fibonacci\n",
    "def fiboevenfind(n):\n",
    "    A=[0,1]\n",
    "    f1=0\n",
    "    f2=1\n",
    "    for i in range(3,n+1):\n",
    "        f3=f1+f2\n",
    "        f1=f2\n",
    "        f2=f3\n",
    "        A.append(f2)\n",
    "        B=[]\n",
    "        for j in range(0,len(A)):\n",
    "            if A[j]%2==0:\n",
    "                B.append(A[j])\n",
    "    print(B)"
   ]
  },
  {
   "cell_type": "code",
   "execution_count": 66,
   "metadata": {},
   "outputs": [
    {
     "name": "stdout",
     "output_type": "stream",
     "text": [
      "[0, 2, 8, 34, 144, 610]\n"
     ]
    }
   ],
   "source": [
    "fiboevenfind(16)"
   ]
  },
  {
   "cell_type": "code",
   "execution_count": 67,
   "metadata": {},
   "outputs": [],
   "source": [
    "# find odd numbers in n fibonacci\n",
    "def fibooddfind(n):\n",
    "    A=[0,1]\n",
    "    f1=0\n",
    "    f2=1\n",
    "    for i in range(3,n+1):\n",
    "        f3=f1+f2\n",
    "        f1=f2\n",
    "        f2=f3\n",
    "        A.append(f2)\n",
    "        B=[]\n",
    "        for j in range(0,len(A)):\n",
    "            if A[j]%2!=0:\n",
    "                B.append(A[j])\n",
    "    print(B)"
   ]
  },
  {
   "cell_type": "code",
   "execution_count": 68,
   "metadata": {},
   "outputs": [
    {
     "name": "stdout",
     "output_type": "stream",
     "text": [
      "[1, 1, 3, 5, 13, 21, 55, 89, 233, 377]\n"
     ]
    }
   ],
   "source": [
    "fibooddfind(16)"
   ]
  },
  {
   "cell_type": "code",
   "execution_count": null,
   "metadata": {},
   "outputs": [],
   "source": []
  }
 ],
 "metadata": {
  "kernelspec": {
   "display_name": "Python 3",
   "language": "python",
   "name": "python3"
  },
  "language_info": {
   "codemirror_mode": {
    "name": "ipython",
    "version": 3
   },
   "file_extension": ".py",
   "mimetype": "text/x-python",
   "name": "python",
   "nbconvert_exporter": "python",
   "pygments_lexer": "ipython3",
   "version": "3.7.1"
  }
 },
 "nbformat": 4,
 "nbformat_minor": 2
}
