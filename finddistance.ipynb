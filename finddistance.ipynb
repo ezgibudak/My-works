{
 "cells": [
  {
   "cell_type": "code",
   "execution_count": 1,
   "metadata": {},
   "outputs": [],
   "source": [
    "import math"
   ]
  },
  {
   "cell_type": "code",
   "execution_count": 39,
   "metadata": {},
   "outputs": [
    {
     "name": "stdout",
     "output_type": "stream",
     "text": [
      "1.0\n"
     ]
    }
   ],
   "source": [
    "# Find min distance\n",
    "dmin = math.inf\n",
    "A=[1,8,9,86]\n",
    "for i in range(0,len(A)):\n",
    "    for j in range(0,len(A)):\n",
    "        if i!=j:\n",
    "            cont=math.sqrt((A[i]-A[j])*(A[i]-A[j]))\n",
    "            if cont<dmin:\n",
    "                dmin=cont\n",
    "print(dmin)\n",
    "        "
   ]
  },
  {
   "cell_type": "code",
   "execution_count": 40,
   "metadata": {},
   "outputs": [
    {
     "name": "stdout",
     "output_type": "stream",
     "text": [
      "85.0\n"
     ]
    }
   ],
   "source": [
    "# Find max distance\n",
    "dmax = 0\n",
    "A=[1,8,9,86]\n",
    "for i in range(0,len(A)):\n",
    "    for j in range(0,len(A)):\n",
    "        if i!=j:\n",
    "            cont=math.sqrt((A[i]-A[j])*(A[i]-A[j]))\n",
    "            if cont>dmax:\n",
    "                dmax=cont\n",
    "print(dmax)\n",
    "        "
   ]
  },
  {
   "cell_type": "code",
   "execution_count": 42,
   "metadata": {},
   "outputs": [],
   "source": [
    "# function min\n",
    "def mindist(A):\n",
    "    dmin = math.inf\n",
    "    for i in range(0,len(A)):\n",
    "        for j in range(0,len(A)):\n",
    "            if i!=j:\n",
    "                cont=math.sqrt((A[i]-A[j])*(A[i]-A[j]))\n",
    "                if cont<dmin:\n",
    "                    dmin=cont\n",
    "    print(dmin)\n",
    "        "
   ]
  },
  {
   "cell_type": "code",
   "execution_count": 43,
   "metadata": {},
   "outputs": [
    {
     "name": "stdout",
     "output_type": "stream",
     "text": [
      "1.0\n"
     ]
    }
   ],
   "source": [
    "mindist(A=[1,8,9,86])"
   ]
  },
  {
   "cell_type": "code",
   "execution_count": 46,
   "metadata": {},
   "outputs": [],
   "source": [
    "# function max\n",
    "def maxdist(A):\n",
    "    dmax = 0\n",
    "    for i in range(0,len(A)):\n",
    "        for j in range(0,len(A)):\n",
    "            if i!=j:\n",
    "                cont=math.sqrt((A[i]-A[j])*(A[i]-A[j]))\n",
    "                if cont>dmax:\n",
    "                    dmax=cont\n",
    "    print(dmax)"
   ]
  },
  {
   "cell_type": "code",
   "execution_count": 47,
   "metadata": {},
   "outputs": [
    {
     "name": "stdout",
     "output_type": "stream",
     "text": [
      "85.0\n"
     ]
    }
   ],
   "source": [
    "maxdist(A=[1,8,9,86])"
   ]
  },
  {
   "cell_type": "code",
   "execution_count": null,
   "metadata": {},
   "outputs": [],
   "source": []
  }
 ],
 "metadata": {
  "kernelspec": {
   "display_name": "Python 3",
   "language": "python",
   "name": "python3"
  },
  "language_info": {
   "codemirror_mode": {
    "name": "ipython",
    "version": 3
   },
   "file_extension": ".py",
   "mimetype": "text/x-python",
   "name": "python",
   "nbconvert_exporter": "python",
   "pygments_lexer": "ipython3",
   "version": "3.7.1"
  }
 },
 "nbformat": 4,
 "nbformat_minor": 2
}
